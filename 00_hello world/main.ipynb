{
 "cells": [
  {
   "cell_type": "code",
   "execution_count": 1,
   "metadata": {},
   "outputs": [],
   "source": [
    "from fastapi import FastAPI"
   ]
  },
  {
   "cell_type": "markdown",
   "metadata": {},
   "source": [
    "This line imports the FastAPI class from the fastapi module. FastAPI is a modern, fast (high-performance), web framework for building APIs with Python 3.6+ based on standard Python type hints."
   ]
  },
  {
   "cell_type": "code",
   "execution_count": 2,
   "metadata": {},
   "outputs": [],
   "source": [
    "app : FastAPI = FastAPI()"
   ]
  },
  {
   "cell_type": "markdown",
   "metadata": {},
   "source": [
    "Here, an instance of the FastAPI class is created and assigned to the variable app. This app will be the main point of interaction with our web application."
   ]
  },
  {
   "cell_type": "code",
   "execution_count": 5,
   "metadata": {},
   "outputs": [],
   "source": [
    "@app.get(\"/\")\n",
    "def index() -> str:\n",
    "    return \"This is Rafi Ali\""
   ]
  },
  {
   "cell_type": "markdown",
   "metadata": {},
   "source": [
    "This line is a decorator that tells FastAPI that the function below should be called when the user makes a GET request to the root URL (“/”) of the application.\n",
    "\n",
    "This is the function that gets called when a GET request is made to the root URL (“/”). It returns the string “This is Rafi Ali”. The -> str part is a Python type hint that indicates this function returns a string.\n",
    "\n",
    "So, when you run this application and navigate to the root URL, you will see the text “This is Rafi Ali” displayed in your web browser. This is a very basic example of how you can use FastAPI to create web applications. FastAPI can do much more, including handling more complex routes, request parameters, and data validation."
   ]
  },
  {
   "cell_type": "markdown",
   "metadata": {},
   "source": [
    "for run this file type this command &darr;"
   ]
  },
  {
   "cell_type": "markdown",
   "metadata": {},
   "source": [
    "`uvicorn main:app --reload`"
   ]
  }
 ],
 "metadata": {
  "kernelspec": {
   "display_name": "rafi",
   "language": "python",
   "name": "python3"
  },
  "language_info": {
   "codemirror_mode": {
    "name": "ipython",
    "version": 3
   },
   "file_extension": ".py",
   "mimetype": "text/x-python",
   "name": "python",
   "nbconvert_exporter": "python",
   "pygments_lexer": "ipython3",
   "version": "3.12.0"
  }
 },
 "nbformat": 4,
 "nbformat_minor": 2
}
